{
 "cells": [
  {
   "cell_type": "markdown",
   "metadata": {},
   "source": [
    "# Creating the local DB and csv file with all trials data\n"
   ]
  },
  {
   "cell_type": "code",
   "execution_count": 3,
   "metadata": {},
   "outputs": [],
   "source": [
    "# Imports\n",
    "import requests\n",
    "import json\n",
    "import pandas as pd\n",
    "from tqdm import tqdm\n",
    "from datetime import datetime as dt\n",
    "\n",
    "import requests\n",
    "import xml.etree.ElementTree as ET\n",
    "import os\n",
    "import json\n",
    "import sqlite3\n",
    "\n"
   ]
  },
  {
   "cell_type": "code",
   "execution_count": 7,
   "metadata": {},
   "outputs": [
    {
     "name": "stdout",
     "output_type": "stream",
     "text": [
      "2023-10-18 16:43:33 - Start\n"
     ]
    },
    {
     "name": "stdout",
     "output_type": "stream",
     "text": [
      "['Acronym', 'AgreementOtherDetails', 'AgreementPISponsorEmployee', 'AgreementRestrictionType', 'AgreementRestrictiveAgreement', 'ArmGroupDescription', 'ArmGroupInterventionName', 'ArmGroupLabel', 'ArmGroupType', 'AvailIPDComment', 'AvailIPDId', 'AvailIPDType', 'AvailIPDURL', 'BaselineCategoryTitle', 'BaselineClassDenomCountGroupId', 'BaselineClassDenomCountValue', 'BaselineClassDenomUnits', 'BaselineClassTitle', 'BaselineDenomCountGroupId', 'BaselineDenomCountValue', 'BaselineDenomUnits', 'BaselineGroupDescription', 'BaselineGroupId', 'BaselineGroupTitle', 'BaselineMeasureCalculatePct', 'BaselineMeasureDenomCountGroupId', 'BaselineMeasureDenomCountValue', 'BaselineMeasureDenomUnits', 'BaselineMeasureDenomUnitsSelected', 'BaselineMeasureDescription', 'BaselineMeasureDispersionType', 'BaselineMeasureParamType', 'BaselineMeasurePopulationDescription', 'BaselineMeasureTitle', 'BaselineMeasureUnitOfMeasure', 'BaselineMeasurementComment', 'BaselineMeasurementGroupId', 'BaselineMeasurementLowerLimit', 'BaselineMeasurementSpread', 'BaselineMeasurementUpperLimit', 'BaselineMeasurementValue', 'BaselinePopulationDescription', 'BaselineTypeUnitsAnalyzed', 'BioSpecDescription', 'BioSpecRetention', 'BriefSummary', 'BriefTitle', 'CentralContactEMail', 'CentralContactName', 'CentralContactPhone', 'CentralContactPhoneExt', 'CentralContactRole', 'CollaboratorClass', 'CollaboratorName', 'CompletionDate', 'CompletionDateType', 'Condition', 'ConditionAncestorId', 'ConditionAncestorTerm', 'ConditionBrowseBranchAbbrev', 'ConditionBrowseBranchName', 'ConditionBrowseLeafAsFound', 'ConditionBrowseLeafId', 'ConditionBrowseLeafName', 'ConditionBrowseLeafRelevance', 'ConditionMeshId', 'ConditionMeshTerm', 'DelayedPosting', 'DesignAllocation', 'DesignInterventionModel', 'DesignInterventionModelDescription', 'DesignMasking', 'DesignMaskingDescription', 'DesignObservationalModel', 'DesignPrimaryPurpose', 'DesignTimePerspective', 'DesignWhoMasked', 'DetailedDescription', 'DispFirstPostDate', 'DispFirstPostDateType', 'DispFirstSubmitDate', 'DispFirstSubmitQCDate', 'EligibilityCriteria', 'EnrollmentCount', 'EnrollmentType', 'EventGroupDeathsNumAffected', 'EventGroupDeathsNumAtRisk', 'EventGroupDescription', 'EventGroupId', 'EventGroupOtherNumAffected', 'EventGroupOtherNumAtRisk', 'EventGroupSeriousNumAffected', 'EventGroupSeriousNumAtRisk', 'EventGroupTitle', 'EventsDescription', 'EventsFrequencyThreshold', 'EventsTimeFrame', 'ExpAccTypeIndividual', 'ExpAccTypeIntermediate', 'ExpAccTypeTreatment', 'ExpandedAccessNCTId', 'ExpandedAccessStatusForNCTId', 'FDAAA801Violation', 'FlowAchievementComment', 'FlowAchievementGroupId', 'FlowAchievementNumSubjects', 'FlowAchievementNumUnits', 'FlowDropWithdrawComment', 'FlowDropWithdrawType', 'FlowGroupDescription', 'FlowGroupId', 'FlowGroupTitle', 'FlowMilestoneComment', 'FlowMilestoneType', 'FlowPeriodTitle', 'FlowPreAssignmentDetails', 'FlowReasonComment', 'FlowReasonGroupId', 'FlowReasonNumSubjects', 'FlowReasonNumUnits', 'FlowRecruitmentDetails', 'FlowTypeUnitsAnalyzed', 'Gender', 'GenderBased', 'GenderDescription', 'HasExpandedAccess', 'HealthyVolunteers', 'IPDSharing', 'IPDSharingAccessCriteria', 'IPDSharingDescription', 'IPDSharingInfoType', 'IPDSharingTimeFrame', 'IPDSharingURL', 'InterventionAncestorId', 'InterventionAncestorTerm', 'InterventionArmGroupLabel', 'InterventionBrowseBranchAbbrev', 'InterventionBrowseBranchName', 'InterventionBrowseLeafAsFound', 'InterventionBrowseLeafId', 'InterventionBrowseLeafName', 'InterventionBrowseLeafRelevance', 'InterventionDescription', 'InterventionMeshId', 'InterventionMeshTerm', 'InterventionName', 'InterventionOtherName', 'InterventionType', 'IsFDARegulatedDevice', 'IsFDARegulatedDrug', 'IsPPSD', 'IsUSExport', 'IsUnapprovedDevice', 'Keyword', 'LargeDocDate', 'LargeDocFilename', 'LargeDocHasICF', 'LargeDocHasProtocol', 'LargeDocHasSAP', 'LargeDocLabel', 'LargeDocTypeAbbrev', 'LargeDocUploadDate', 'LastKnownStatus', 'LastUpdatePostDate', 'LastUpdatePostDateType', 'LastUpdateSubmitDate', 'LeadSponsorClass', 'LeadSponsorName', 'LimitationsAndCaveatsDescription', 'LocationCity', 'LocationContactEMail', 'LocationContactName', 'LocationContactPhone', 'LocationContactPhoneExt', 'LocationContactRole', 'LocationCountry', 'LocationFacility', 'LocationState', 'LocationStatus', 'LocationZip', 'MaximumAge', 'MinimumAge', 'NCTId', 'NCTIdAlias', 'OfficialTitle', 'OrgClass', 'OrgFullName', 'OrgStudyId', 'OrgStudyIdDomain', 'OrgStudyIdLink', 'OrgStudyIdType', 'OtherEventAssessmentType', 'OtherEventNotes', 'OtherEventOrganSystem', 'OtherEventSourceVocabulary', 'OtherEventStatsGroupId', 'OtherEventStatsNumAffected', 'OtherEventStatsNumAtRisk', 'OtherEventStatsNumEvents', 'OtherEventTerm', 'OtherOutcomeDescription', 'OtherOutcomeMeasure', 'OtherOutcomeTimeFrame', 'OutcomeAnalysisCILowerLimit', 'OutcomeAnalysisCILowerLimitComment', 'OutcomeAnalysisCINumSides', 'OutcomeAnalysisCIPctValue', 'OutcomeAnalysisCIUpperLimit', 'OutcomeAnalysisCIUpperLimitComment', 'OutcomeAnalysisDispersionType', 'OutcomeAnalysisDispersionValue', 'OutcomeAnalysisEstimateComment', 'OutcomeAnalysisGroupDescription', 'OutcomeAnalysisGroupId', 'OutcomeAnalysisNonInferiorityComment', 'OutcomeAnalysisNonInferiorityType', 'OutcomeAnalysisOtherAnalysisDescription', 'OutcomeAnalysisPValue', 'OutcomeAnalysisPValueComment', 'OutcomeAnalysisParamType', 'OutcomeAnalysisParamValue', 'OutcomeAnalysisStatisticalComment', 'OutcomeAnalysisStatisticalMethod', 'OutcomeAnalysisTestedNonInferiority', 'OutcomeCategoryTitle', 'OutcomeClassDenomCountGroupId', 'OutcomeClassDenomCountValue', 'OutcomeClassDenomUnits', 'OutcomeClassTitle', 'OutcomeDenomCountGroupId', 'OutcomeDenomCountValue', 'OutcomeDenomUnits', 'OutcomeGroupDescription', 'OutcomeGroupId', 'OutcomeGroupTitle', 'OutcomeMeasureAnticipatedPostingDate', 'OutcomeMeasureCalculatePct', 'OutcomeMeasureDenomUnitsSelected', 'OutcomeMeasureDescription', 'OutcomeMeasureDispersionType', 'OutcomeMeasureParamType', 'OutcomeMeasurePopulationDescription', 'OutcomeMeasureReportingStatus', 'OutcomeMeasureTimeFrame', 'OutcomeMeasureTitle', 'OutcomeMeasureType', 'OutcomeMeasureTypeUnitsAnalyzed', 'OutcomeMeasureUnitOfMeasure', 'OutcomeMeasurementComment', 'OutcomeMeasurementGroupId', 'OutcomeMeasurementLowerLimit', 'OutcomeMeasurementSpread', 'OutcomeMeasurementUpperLimit', 'OutcomeMeasurementValue', 'OverallOfficialAffiliation', 'OverallOfficialName', 'OverallOfficialRole', 'OverallStatus', 'OversightHasDMC', 'PatientRegistry', 'Phase', 'PointOfContactEMail', 'PointOfContactOrganization', 'PointOfContactPhone', 'PointOfContactPhoneExt', 'PointOfContactTitle', 'PrimaryCompletionDate', 'PrimaryCompletionDateType', 'PrimaryOutcomeDescription', 'PrimaryOutcomeMeasure', 'PrimaryOutcomeTimeFrame', 'ReferenceCitation', 'ReferencePMID', 'ReferenceType', 'RemovedCountry', 'ResponsiblePartyInvestigatorAffiliation', 'ResponsiblePartyInvestigatorFullName', 'ResponsiblePartyInvestigatorTitle', 'ResponsiblePartyOldNameTitle', 'ResponsiblePartyOldOrganization', 'ResponsiblePartyType', 'ResultsFirstPostDate', 'ResultsFirstPostDateType', 'ResultsFirstPostedQCCommentsDate', 'ResultsFirstPostedQCCommentsDateType', 'ResultsFirstSubmitDate', 'ResultsFirstSubmitQCDate', 'RetractionPMID', 'RetractionSource', 'SamplingMethod', 'SecondaryId', 'SecondaryIdDomain', 'SecondaryIdLink', 'SecondaryIdType', 'SecondaryOutcomeDescription', 'SecondaryOutcomeMeasure', 'SecondaryOutcomeTimeFrame', 'SeeAlsoLinkLabel', 'SeeAlsoLinkURL', 'SeriousEventAssessmentType', 'SeriousEventNotes', 'SeriousEventOrganSystem', 'SeriousEventSourceVocabulary', 'SeriousEventStatsGroupId', 'SeriousEventStatsNumAffected', 'SeriousEventStatsNumAtRisk', 'SeriousEventStatsNumEvents', 'SeriousEventTerm', 'StartDate', 'StartDateType', 'StatusVerifiedDate', 'StdAge', 'StudyFirstPostDate', 'StudyFirstPostDateType', 'StudyFirstSubmitDate', 'StudyFirstSubmitQCDate', 'StudyPopulation', 'StudyType', 'SubmissionMCPReleaseN', 'SubmissionReleaseDate', 'SubmissionResetDate', 'SubmissionUnreleaseDate', 'TargetDuration', 'UnpostedEventDate', 'UnpostedEventType', 'UnpostedResponsibleParty', 'VersionHolder', 'WhyStopped']\n",
      "328 fields in total\n",
      "2023-10-18 16:43:34 - End\n"
     ]
    }
   ],
   "source": [
    "print(f\"{dt.now().strftime('%Y-%m-%d %H:%M:%S')} - Start\")\n",
    "all_study_fields_url =\"https://classic.clinicaltrials.gov/api/info/study_fields_list\"\n",
    "response = requests.get(all_study_fields_url)\n",
    "all_study_fields_xml  = response.text\n",
    "\n",
    "# Parse the XML data\n",
    "root = ET.fromstring(all_study_fields_xml)\n",
    "\n",
    "# Find all Field elements within FieldList\n",
    "field_elements = root.findall(\".//FieldList/Field\")\n",
    "\n",
    "# Extract the Field Name attribute and store in a list\n",
    "all_study_fields = [str(field.get(\"Name\")) for field in field_elements]\n",
    "\n",
    "# Print the list of field names\n",
    "print(all_study_fields)\n",
    "print(f\"{len(all_study_fields)} fields in total\")\n",
    "print(f\"{dt.now().strftime('%Y-%m-%d %H:%M:%S')} - End\")"
   ]
  },
  {
   "cell_type": "markdown",
   "metadata": {},
   "source": [
    "#3 Downlaod all records locally\n",
    "While not the most efficient, due to clinicaltrials.gov API limitations (max 1000 records per query), this might be the best way to proceed\n",
    "So.. first we need to download the full dataset from: \n",
    "    \n",
    "    https://classic.clinicaltrials.gov/api/gui/ref/download_all\n",
    "\n",
    "We chose the JSON download format:\n",
    "    https://classic.clinicaltrials.gov/AllAPIJSON.zip\n",
    "\n",
    "### Iterative scan per json into a dataframe\n",
    "After we download over 10GB of data, we can parse it into a csv file/sql database or anything similar that we can then use in downstream calculations\n"
   ]
  },
  {
   "cell_type": "code",
   "execution_count": 8,
   "metadata": {},
   "outputs": [],
   "source": [
    "# Setup\n",
    "\n",
    "# Create an empty list to store the data records\n",
    "data_records = []\n",
    "max_studies = 10000000 # <-- set to a smaller number for testing. There are less than 0.5m studies in total as of Oct 2023\n",
    "n_write = 10000 # write to database every n_write records, larger values are faster but use more memory.\n",
    "# selected_study_fields = ['NCTId', 'Condition', 'BriefTitle'] # <-- smaller set of fields for testing\n",
    "selected_study_fields = all_study_fields\n",
    "\n",
    "\n",
    "# Specify the top-level folder path containing subfolders with JSON files\n",
    "folder_path = '../data/AllAPIJSON/'\n",
    "\n",
    "rebuild_db = True # <-- set to True to rebuild the database from scratch\n",
    "only_add_new_records = True # <-- set to True to add new records to the database instead of rebuilding all records"
   ]
  },
  {
   "cell_type": "code",
   "execution_count": 9,
   "metadata": {},
   "outputs": [],
   "source": [
    "# some potetnially useful functions\n",
    "def extract_last_keys(data, parent_key='', sep='_'):\n",
    "    items = {}\n",
    "    for key, value in data.items():\n",
    "        new_key = f\"{key}\" if parent_key else key\n",
    "        if isinstance(value, dict):\n",
    "            items.update(extract_last_keys(value, new_key, sep=sep))\n",
    "        else:\n",
    "            items[new_key] = value\n",
    "    return items\n",
    "\n",
    "def convert_lists_to_strings(df):\n",
    "    # Iterate over the DataFrame's columns\n",
    "    for col in df.columns:\n",
    "        # Check if the column contains lists\n",
    "        if df[col].apply(lambda x: isinstance(x, list)).any():\n",
    "            # Convert lists to strings\n",
    "            df[col] = df[col].astype(str)\n",
    "    return df\n",
    "\n",
    "def extract_field(data, field_name):\n",
    "    if isinstance(data, dict):\n",
    "        if field_name in data:\n",
    "            return data[field_name]\n",
    "        else:\n",
    "            for key, value in data.items():\n",
    "                result = extract_field(value, field_name)\n",
    "                if result is not None:\n",
    "                    return result\n",
    "    elif isinstance(data, list):\n",
    "        for item in data:\n",
    "            result = extract_field(item, field_name)\n",
    "            if result is not None:\n",
    "                return result\n",
    "    return None\n",
    "\n",
    "\n",
    "\n"
   ]
  },
  {
   "cell_type": "code",
   "execution_count": 14,
   "metadata": {},
   "outputs": [
    {
     "name": "stdout",
     "output_type": "stream",
     "text": [
      "2023-10-18 16:48:39 - Rebuilding database\n"
     ]
    },
    {
     "name": "stderr",
     "output_type": "stream",
     "text": [
      "100%|██████████| 609/609 [00:06<00:00, 97.00it/s] \n"
     ]
    },
    {
     "ename": "ValueError",
     "evalue": "Length mismatch: Expected axis has 0 elements, new values have 328 elements",
     "output_type": "error",
     "traceback": [
      "\u001b[0;31m---------------------------------------------------------------------------\u001b[0m",
      "\u001b[0;31mValueError\u001b[0m                                Traceback (most recent call last)",
      "\u001b[1;32m/home/sergiusz/pythondev/alltrials/notebooks/ClinTrialsGov_create_db.ipynb Cell 7\u001b[0m line \u001b[0;36m4\n\u001b[1;32m     <a href='vscode-notebook-cell:/home/sergiusz/pythondev/alltrials/notebooks/ClinTrialsGov_create_db.ipynb#X20sZmlsZQ%3D%3D?line=44'>45</a>\u001b[0m df \u001b[39m=\u001b[39m pd\u001b[39m.\u001b[39mDataFrame(data_records)\n\u001b[1;32m     <a href='vscode-notebook-cell:/home/sergiusz/pythondev/alltrials/notebooks/ClinTrialsGov_create_db.ipynb#X20sZmlsZQ%3D%3D?line=45'>46</a>\u001b[0m df \u001b[39m=\u001b[39m convert_lists_to_strings(df)\n\u001b[0;32m---> <a href='vscode-notebook-cell:/home/sergiusz/pythondev/alltrials/notebooks/ClinTrialsGov_create_db.ipynb#X20sZmlsZQ%3D%3D?line=46'>47</a>\u001b[0m df\u001b[39m.\u001b[39;49mcolumns \u001b[39m=\u001b[39m selected_study_fields\n\u001b[1;32m     <a href='vscode-notebook-cell:/home/sergiusz/pythondev/alltrials/notebooks/ClinTrialsGov_create_db.ipynb#X20sZmlsZQ%3D%3D?line=47'>48</a>\u001b[0m df\u001b[39m.\u001b[39mto_csv(\u001b[39m'\u001b[39m\u001b[39m../data/alltrials.csv\u001b[39m\u001b[39m'\u001b[39m, mode\u001b[39m=\u001b[39m\u001b[39m'\u001b[39m\u001b[39ma\u001b[39m\u001b[39m'\u001b[39m, header\u001b[39m=\u001b[39m\u001b[39mTrue\u001b[39;00m, sep\u001b[39m=\u001b[39m\u001b[39m\"\u001b[39m\u001b[39m\\t\u001b[39;00m\u001b[39m\"\u001b[39m)\n\u001b[1;32m     <a href='vscode-notebook-cell:/home/sergiusz/pythondev/alltrials/notebooks/ClinTrialsGov_create_db.ipynb#X20sZmlsZQ%3D%3D?line=48'>49</a>\u001b[0m df\u001b[39m.\u001b[39mto_sql(table_name, conn, if_exists\u001b[39m=\u001b[39m\u001b[39m'\u001b[39m\u001b[39mappend\u001b[39m\u001b[39m'\u001b[39m, index\u001b[39m=\u001b[39m\u001b[39mFalse\u001b[39;00m)\n",
      "File \u001b[0;32m~/.pyenv/versions/3.11.6/envs/wespy/lib/python3.11/site-packages/pandas/core/generic.py:6218\u001b[0m, in \u001b[0;36mNDFrame.__setattr__\u001b[0;34m(self, name, value)\u001b[0m\n\u001b[1;32m   6216\u001b[0m \u001b[39mtry\u001b[39;00m:\n\u001b[1;32m   6217\u001b[0m     \u001b[39mobject\u001b[39m\u001b[39m.\u001b[39m\u001b[39m__getattribute__\u001b[39m(\u001b[39mself\u001b[39m, name)\n\u001b[0;32m-> 6218\u001b[0m     \u001b[39mreturn\u001b[39;00m \u001b[39mobject\u001b[39;49m\u001b[39m.\u001b[39;49m\u001b[39m__setattr__\u001b[39;49m(\u001b[39mself\u001b[39;49m, name, value)\n\u001b[1;32m   6219\u001b[0m \u001b[39mexcept\u001b[39;00m \u001b[39mAttributeError\u001b[39;00m:\n\u001b[1;32m   6220\u001b[0m     \u001b[39mpass\u001b[39;00m\n",
      "File \u001b[0;32mproperties.pyx:69\u001b[0m, in \u001b[0;36mpandas._libs.properties.AxisProperty.__set__\u001b[0;34m()\u001b[0m\n",
      "File \u001b[0;32m~/.pyenv/versions/3.11.6/envs/wespy/lib/python3.11/site-packages/pandas/core/generic.py:767\u001b[0m, in \u001b[0;36mNDFrame._set_axis\u001b[0;34m(self, axis, labels)\u001b[0m\n\u001b[1;32m    762\u001b[0m \u001b[39m\u001b[39m\u001b[39m\"\"\"\u001b[39;00m\n\u001b[1;32m    763\u001b[0m \u001b[39mThis is called from the cython code when we set the `index` attribute\u001b[39;00m\n\u001b[1;32m    764\u001b[0m \u001b[39mdirectly, e.g. `series.index = [1, 2, 3]`.\u001b[39;00m\n\u001b[1;32m    765\u001b[0m \u001b[39m\"\"\"\u001b[39;00m\n\u001b[1;32m    766\u001b[0m labels \u001b[39m=\u001b[39m ensure_index(labels)\n\u001b[0;32m--> 767\u001b[0m \u001b[39mself\u001b[39;49m\u001b[39m.\u001b[39;49m_mgr\u001b[39m.\u001b[39;49mset_axis(axis, labels)\n\u001b[1;32m    768\u001b[0m \u001b[39mself\u001b[39m\u001b[39m.\u001b[39m_clear_item_cache()\n",
      "File \u001b[0;32m~/.pyenv/versions/3.11.6/envs/wespy/lib/python3.11/site-packages/pandas/core/internals/managers.py:227\u001b[0m, in \u001b[0;36mBaseBlockManager.set_axis\u001b[0;34m(self, axis, new_labels)\u001b[0m\n\u001b[1;32m    225\u001b[0m \u001b[39mdef\u001b[39;00m \u001b[39mset_axis\u001b[39m(\u001b[39mself\u001b[39m, axis: AxisInt, new_labels: Index) \u001b[39m-\u001b[39m\u001b[39m>\u001b[39m \u001b[39mNone\u001b[39;00m:\n\u001b[1;32m    226\u001b[0m     \u001b[39m# Caller is responsible for ensuring we have an Index object.\u001b[39;00m\n\u001b[0;32m--> 227\u001b[0m     \u001b[39mself\u001b[39;49m\u001b[39m.\u001b[39;49m_validate_set_axis(axis, new_labels)\n\u001b[1;32m    228\u001b[0m     \u001b[39mself\u001b[39m\u001b[39m.\u001b[39maxes[axis] \u001b[39m=\u001b[39m new_labels\n",
      "File \u001b[0;32m~/.pyenv/versions/3.11.6/envs/wespy/lib/python3.11/site-packages/pandas/core/internals/base.py:85\u001b[0m, in \u001b[0;36mDataManager._validate_set_axis\u001b[0;34m(self, axis, new_labels)\u001b[0m\n\u001b[1;32m     82\u001b[0m     \u001b[39mpass\u001b[39;00m\n\u001b[1;32m     84\u001b[0m \u001b[39melif\u001b[39;00m new_len \u001b[39m!=\u001b[39m old_len:\n\u001b[0;32m---> 85\u001b[0m     \u001b[39mraise\u001b[39;00m \u001b[39mValueError\u001b[39;00m(\n\u001b[1;32m     86\u001b[0m         \u001b[39mf\u001b[39m\u001b[39m\"\u001b[39m\u001b[39mLength mismatch: Expected axis has \u001b[39m\u001b[39m{\u001b[39;00mold_len\u001b[39m}\u001b[39;00m\u001b[39m elements, new \u001b[39m\u001b[39m\"\u001b[39m\n\u001b[1;32m     87\u001b[0m         \u001b[39mf\u001b[39m\u001b[39m\"\u001b[39m\u001b[39mvalues have \u001b[39m\u001b[39m{\u001b[39;00mnew_len\u001b[39m}\u001b[39;00m\u001b[39m elements\u001b[39m\u001b[39m\"\u001b[39m\n\u001b[1;32m     88\u001b[0m     )\n",
      "\u001b[0;31mValueError\u001b[0m: Length mismatch: Expected axis has 0 elements, new values have 328 elements"
     ]
    }
   ],
   "source": [
    "if rebuild_db:\n",
    "    table_name = '../data/alltrials'\n",
    "    print(f\"{dt.now().strftime('%Y-%m-%d %H:%M:%S')} - Rebuilding database\")\n",
    "    conn = sqlite3.connect('../data/alltrials.db')  \n",
    "    existing_nctids = set()  # Create a set to store existing NCTIDs\n",
    "\n",
    "    if only_add_new_records:\n",
    "        \n",
    "        # Load existing NCTIDs from the SQL database\n",
    "        cursor = conn.cursor()\n",
    "        cursor.execute(\"SELECT NCTid FROM '../data/alltrials' \")\n",
    "        existing_nctids.update(row[0] for row in cursor.fetchall())\n",
    "\n",
    "    i = 0 # Counter for files processed\n",
    "    for subfolder_name in tqdm(os.listdir(folder_path)):\n",
    "        subfolder_path = os.path.join(folder_path, subfolder_name)\n",
    "\n",
    "        # Check if the item in the top folder is a directory (subfolder)\n",
    "        if os.path.isdir(subfolder_path):    \n",
    "            for filename in os.listdir(subfolder_path):\n",
    "                if i > max_studies:\n",
    "                    break\n",
    "                if filename.endswith('.json'):\n",
    "                    i+=1\n",
    "                    nctid = filename.replace('.json', '')  # Extract NCTid from filename\n",
    "                    if only_add_new_records and nctid in existing_nctids:\n",
    "                        continue\n",
    "                    else:\n",
    "                        file_path = os.path.join(subfolder_path, filename)\n",
    "\n",
    "                        # Read JSON data\n",
    "                        with open(file_path, 'r') as json_file:\n",
    "                            study_data = json.load(json_file)\n",
    "                            row_data = [extract_field(study_data, field) for field in selected_study_fields]\n",
    "                            data_records.append(row_data)\n",
    "                if (i % n_write == 0): # save every n_write records and empty the list\n",
    "                    df = pd.DataFrame(data_records)\n",
    "                    df.columns = selected_study_fields\n",
    "                    df = convert_lists_to_strings(df)\n",
    "                    \n",
    "                    df.to_csv('../data/alltrials.csv', mode='a', header=True, sep=\"\\t\")\n",
    "                    df.to_sql(\"../data/alltrials\", conn, if_exists='append', index=False)\n",
    "                    data_records = []    \n",
    "    # Final write of the remaining data after the loop\n",
    "    if len(data_records) > 0:\n",
    "        df = pd.DataFrame(data_records)\n",
    "        df = convert_lists_to_strings(df)\n",
    "        df.columns = selected_study_fields\n",
    "        df.to_csv('../data/alltrials.csv', mode='a', header=True, sep=\"\\t\")\n",
    "        df.to_sql(table_name, conn, if_exists='append', index=False)\n",
    "    print(f\"{dt.now().strftime('%Y-%m-%d %H:%M:%S')} - Finished rebuilding database\")   \n",
    "                    \n"
   ]
  },
  {
   "cell_type": "code",
   "execution_count": null,
   "metadata": {},
   "outputs": [],
   "source": []
  }
 ],
 "metadata": {
  "kernelspec": {
   "display_name": "wespy",
   "language": "python",
   "name": "python3"
  },
  "language_info": {
   "codemirror_mode": {
    "name": "ipython",
    "version": 3
   },
   "file_extension": ".py",
   "mimetype": "text/x-python",
   "name": "python",
   "nbconvert_exporter": "python",
   "pygments_lexer": "ipython3",
   "version": "3.11.6"
  }
 },
 "nbformat": 4,
 "nbformat_minor": 2
}
