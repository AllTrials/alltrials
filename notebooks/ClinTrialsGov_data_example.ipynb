{
 "cells": [
  {
   "cell_type": "markdown",
   "metadata": {},
   "source": [
    "# Using local db and csv dump to load Clinical Trials data\n"
   ]
  },
  {
   "cell_type": "code",
   "execution_count": 1,
   "metadata": {},
   "outputs": [],
   "source": [
    "# Imports\n",
    "import pandas as pd\n",
    "import numpy as np\n",
    "import plotly.express as px\n",
    "from tqdm import tqdm\n",
    "from datetime import datetime as dt\n",
    "import sqlite3\n",
    "\n"
   ]
  },
  {
   "cell_type": "markdown",
   "metadata": {},
   "source": [
    "# Accessing data from the local csv file"
   ]
  },
  {
   "cell_type": "code",
   "execution_count": 2,
   "metadata": {},
   "outputs": [
    {
     "name": "stdout",
     "output_type": "stream",
     "text": [
      "2023-10-18 17:08:52.290302: Reading in csv data...\n"
     ]
    }
   ],
   "source": [
    "# wonder if we can read it in into memory:P - YES we can.\n",
    "print(f\"{dt.now()}: Reading in csv data...\")\n",
    "df = pd.read_csv('../data/alltrials.csv', index_col=False, on_bad_lines='warn', sep=\"\\t\")\n",
    "print(f\"{dt.now()}: Done reading in csv data...\")"
   ]
  },
  {
   "cell_type": "code",
   "execution_count": null,
   "metadata": {},
   "outputs": [
    {
     "data": {
      "text/html": [
       "<div>\n",
       "<style scoped>\n",
       "    .dataframe tbody tr th:only-of-type {\n",
       "        vertical-align: middle;\n",
       "    }\n",
       "\n",
       "    .dataframe tbody tr th {\n",
       "        vertical-align: top;\n",
       "    }\n",
       "\n",
       "    .dataframe thead th {\n",
       "        text-align: right;\n",
       "    }\n",
       "</style>\n",
       "<table border=\"1\" class=\"dataframe\">\n",
       "  <thead>\n",
       "    <tr style=\"text-align: right;\">\n",
       "      <th></th>\n",
       "      <th>Unnamed: 0</th>\n",
       "      <th>NCTId</th>\n",
       "      <th>Condition</th>\n",
       "      <th>BriefTitle</th>\n",
       "    </tr>\n",
       "  </thead>\n",
       "  <tbody>\n",
       "    <tr>\n",
       "      <th>0</th>\n",
       "      <td>0.0</td>\n",
       "      <td>NCT00509938</td>\n",
       "      <td>['Hematopoietic Stem Cell Transplantation', 'B...</td>\n",
       "      <td>Safety of a Single Dose of 5 mg of hLF1-11 Giv...</td>\n",
       "    </tr>\n",
       "    <tr>\n",
       "      <th>1</th>\n",
       "      <td>1.0</td>\n",
       "      <td>NCT00501553</td>\n",
       "      <td>['Heart Failure']</td>\n",
       "      <td>Vitamin D in Patients With Heart Failure</td>\n",
       "    </tr>\n",
       "    <tr>\n",
       "      <th>2</th>\n",
       "      <td>2.0</td>\n",
       "      <td>NCT00508131</td>\n",
       "      <td>['Anemia', 'Iron Deficiency', 'Stunting']</td>\n",
       "      <td>Effectiveness of Iron-Fortified Milk on Iron S...</td>\n",
       "    </tr>\n",
       "    <tr>\n",
       "      <th>3</th>\n",
       "      <td>3.0</td>\n",
       "      <td>NCT00505570</td>\n",
       "      <td>['Migraine', 'Migraine With Aura', 'Patent For...</td>\n",
       "      <td>PRIMA PFO Migraine Trial</td>\n",
       "    </tr>\n",
       "    <tr>\n",
       "      <th>4</th>\n",
       "      <td>4.0</td>\n",
       "      <td>NCT00500214</td>\n",
       "      <td>['Postoperative Pain', 'Postoperative Hyposthe...</td>\n",
       "      <td>Ilioinguinal Nerve Excision in Open Mesh Repai...</td>\n",
       "    </tr>\n",
       "    <tr>\n",
       "      <th>...</th>\n",
       "      <td>...</td>\n",
       "      <td>...</td>\n",
       "      <td>...</td>\n",
       "      <td>...</td>\n",
       "    </tr>\n",
       "    <tr>\n",
       "      <th>101002</th>\n",
       "      <td>99995.0</td>\n",
       "      <td>NCT05903859</td>\n",
       "      <td>['Infertility, Male']</td>\n",
       "      <td>Improvement of Reproductive Function in Men Wi...</td>\n",
       "    </tr>\n",
       "    <tr>\n",
       "      <th>101003</th>\n",
       "      <td>99996.0</td>\n",
       "      <td>NCT05902767</td>\n",
       "      <td>['Stroke', 'Dementia']</td>\n",
       "      <td>Nut Supplementation to Mitigate Post-stroke Co...</td>\n",
       "    </tr>\n",
       "    <tr>\n",
       "      <th>101004</th>\n",
       "      <td>99997.0</td>\n",
       "      <td>NCT05907148</td>\n",
       "      <td>['Parkinson Disease']</td>\n",
       "      <td>Effects of Sensory Integration Training on Bal...</td>\n",
       "    </tr>\n",
       "    <tr>\n",
       "      <th>101005</th>\n",
       "      <td>99998.0</td>\n",
       "      <td>NCT05906706</td>\n",
       "      <td>['Bullous Pemphigoid']</td>\n",
       "      <td>Compassionate Use of Dupilumab for Adult Patie...</td>\n",
       "    </tr>\n",
       "    <tr>\n",
       "      <th>101006</th>\n",
       "      <td>99999.0</td>\n",
       "      <td>NCT05909215</td>\n",
       "      <td>['Hemodynamic Instability', 'Tracheal Intubati...</td>\n",
       "      <td>Attenuation Of Hemodynamic Response To Laryngo...</td>\n",
       "    </tr>\n",
       "  </tbody>\n",
       "</table>\n",
       "<p>101007 rows × 4 columns</p>\n",
       "</div>"
      ],
      "text/plain": [
       "        Unnamed: 0        NCTId  \\\n",
       "0              0.0  NCT00509938   \n",
       "1              1.0  NCT00501553   \n",
       "2              2.0  NCT00508131   \n",
       "3              3.0  NCT00505570   \n",
       "4              4.0  NCT00500214   \n",
       "...            ...          ...   \n",
       "101002     99995.0  NCT05903859   \n",
       "101003     99996.0  NCT05902767   \n",
       "101004     99997.0  NCT05907148   \n",
       "101005     99998.0  NCT05906706   \n",
       "101006     99999.0  NCT05909215   \n",
       "\n",
       "                                                Condition  \\\n",
       "0       ['Hematopoietic Stem Cell Transplantation', 'B...   \n",
       "1                                       ['Heart Failure']   \n",
       "2               ['Anemia', 'Iron Deficiency', 'Stunting']   \n",
       "3       ['Migraine', 'Migraine With Aura', 'Patent For...   \n",
       "4       ['Postoperative Pain', 'Postoperative Hyposthe...   \n",
       "...                                                   ...   \n",
       "101002                              ['Infertility, Male']   \n",
       "101003                             ['Stroke', 'Dementia']   \n",
       "101004                              ['Parkinson Disease']   \n",
       "101005                             ['Bullous Pemphigoid']   \n",
       "101006  ['Hemodynamic Instability', 'Tracheal Intubati...   \n",
       "\n",
       "                                               BriefTitle  \n",
       "0       Safety of a Single Dose of 5 mg of hLF1-11 Giv...  \n",
       "1                Vitamin D in Patients With Heart Failure  \n",
       "2       Effectiveness of Iron-Fortified Milk on Iron S...  \n",
       "3                                PRIMA PFO Migraine Trial  \n",
       "4       Ilioinguinal Nerve Excision in Open Mesh Repai...  \n",
       "...                                                   ...  \n",
       "101002  Improvement of Reproductive Function in Men Wi...  \n",
       "101003  Nut Supplementation to Mitigate Post-stroke Co...  \n",
       "101004  Effects of Sensory Integration Training on Bal...  \n",
       "101005  Compassionate Use of Dupilumab for Adult Patie...  \n",
       "101006  Attenuation Of Hemodynamic Response To Laryngo...  \n",
       "\n",
       "[101007 rows x 4 columns]"
      ]
     },
     "execution_count": 54,
     "metadata": {},
     "output_type": "execute_result"
    }
   ],
   "source": [
    "df"
   ]
  },
  {
   "cell_type": "markdown",
   "metadata": {},
   "source": [
    "# Accessing data from the local database"
   ]
  },
  {
   "cell_type": "code",
   "execution_count": 1,
   "metadata": {},
   "outputs": [
    {
     "ename": "NameError",
     "evalue": "name 'conn' is not defined",
     "output_type": "error",
     "traceback": [
      "\u001b[0;31m---------------------------------------------------------------------------\u001b[0m",
      "\u001b[0;31mNameError\u001b[0m                                 Traceback (most recent call last)",
      "\u001b[1;32m/home/sergiusz/pythondev/alltrials/notebooks/ClinTrialsGov_create_db.ipynb Cell 13\u001b[0m line \u001b[0;36m2\n\u001b[1;32m      <a href='vscode-notebook-cell:/home/sergiusz/pythondev/alltrials/notebooks/ClinTrialsGov_create_db.ipynb#X25sZmlsZQ%3D%3D?line=0'>1</a>\u001b[0m trials_query \u001b[39m=\u001b[39m \u001b[39m\"\"\"\u001b[39m\u001b[39mSELECT * FROM \u001b[39m\u001b[39m'\u001b[39m\u001b[39m../data/alltrials\u001b[39m\u001b[39m'\u001b[39m\u001b[39m LIMIT 10\u001b[39m\u001b[39m\"\"\"\u001b[39m\n\u001b[0;32m----> <a href='vscode-notebook-cell:/home/sergiusz/pythondev/alltrials/notebooks/ClinTrialsGov_create_db.ipynb#X25sZmlsZQ%3D%3D?line=1'>2</a>\u001b[0m result \u001b[39m=\u001b[39m conn\u001b[39m.\u001b[39mexecute(trials_query)\n\u001b[1;32m      <a href='vscode-notebook-cell:/home/sergiusz/pythondev/alltrials/notebooks/ClinTrialsGov_create_db.ipynb#X25sZmlsZQ%3D%3D?line=2'>3</a>\u001b[0m alltrials_df \u001b[39m=\u001b[39m pd\u001b[39m.\u001b[39mDataFrame\u001b[39m.\u001b[39mfrom_records(result)\n\u001b[1;32m      <a href='vscode-notebook-cell:/home/sergiusz/pythondev/alltrials/notebooks/ClinTrialsGov_create_db.ipynb#X25sZmlsZQ%3D%3D?line=4'>5</a>\u001b[0m \u001b[39mprint\u001b[39m(alltrials_df)\n",
      "\u001b[0;31mNameError\u001b[0m: name 'conn' is not defined"
     ]
    }
   ],
   "source": [
    "print(f\"{dt.now()}: Reading in data from db...\")\n",
    "conn = sqlite3.connect('../data/alltrials.db')  \n",
    "table_name = '../data/alltrials'\n",
    "trials_query = f\"\"\"SELECT * FROM {table_name} LIMIT 10\"\"\"\n",
    "result = conn.execute(trials_query)\n",
    "alltrials_df = pd.DataFrame.from_records(result)\n",
    "\n",
    "print(f\"{dt.now()}: Done reading in data from db...\")"
   ]
  },
  {
   "cell_type": "code",
   "execution_count": null,
   "metadata": {},
   "outputs": [],
   "source": [
    "alltrials_df = pd.DataFrame.from_records(result)\n"
   ]
  }
 ],
 "metadata": {
  "kernelspec": {
   "display_name": "wespy",
   "language": "python",
   "name": "python3"
  },
  "language_info": {
   "codemirror_mode": {
    "name": "ipython",
    "version": 3
   },
   "file_extension": ".py",
   "mimetype": "text/x-python",
   "name": "python",
   "nbconvert_exporter": "python",
   "pygments_lexer": "ipython3",
   "version": "3.11.6"
  }
 },
 "nbformat": 4,
 "nbformat_minor": 2
}
